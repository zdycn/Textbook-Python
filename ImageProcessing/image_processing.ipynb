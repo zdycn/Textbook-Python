{
 "cells": [
  {
   "cell_type": "markdown",
   "metadata": {
    "collapsed": true
   },
   "source": [
    "## 分割\n",
    "基于python脚本语言开发的数字图片处理包，比如PIL,Pillow, opencv, scikit-image等。\n",
    "PIL和Pillow只提供最基础的数字图像处理，功能有限；opencv实际上是一个c++库，只是提供了python接口，更新速度非常慢。scikit-image是基于scipy的一款图像处理包，它将图片作为numpy数组进行处理。\n",
    "\n",
    "Image读出来的是PIL的类型，而skimage.io读出来的数据是numpy格式。  \n",
    "> Img读图片的大小是图片的(width, height)；而skimage的是(height,width, channel)"
   ]
  },
  {
   "cell_type": "code",
   "execution_count": 13,
   "metadata": {},
   "outputs": [
    {
     "name": "stdout",
     "output_type": "stream",
     "text": [
      "(4032, 3024)\n",
      "(3024, 4032, 3)\n"
     ]
    }
   ],
   "source": [
    "from PIL import Image as img\n",
    "from skimage import io\n",
    "\n",
    "file = r'F:\\DataSet\\building.jpg'\n",
    "img_file1 = img.open(file)\n",
    "img_file2 = io.imread(file)\n",
    "\n",
    "print(img_file1.size)\n",
    "print(img_file2.shape)"
   ]
  },
  {
   "cell_type": "code",
   "execution_count": null,
   "metadata": {
    "collapsed": true
   },
   "outputs": [],
   "source": []
  },
  {
   "cell_type": "code",
   "execution_count": 3,
   "metadata": {},
   "outputs": [
    {
     "data": {
      "image/png": "[encoded data removed]",
      "text/plain": [
       "<matplotlib.figure.Figure at 0x24192656e80>"
      ]
     },
     "metadata": {},
     "output_type": "display_data"
    }
   ],
   "source": [
    "import numpy as np\n",
    "import matplotlib.pyplot as plt \n",
    "from skimage import filters\n",
    "import matplotlib.cm as cm\n",
    "import scipy.signal as signal\n",
    "\n",
    "filepath = r'F:\\DataSet\\building.jpg' # input(\"请输入文件路径：\")\n",
    "image = io.imread(filepath, as_grey=True)\n",
    "\n",
    "image_array = np.array(image)\n",
    "\n",
    "plt.hist(image_array.flatten(), 256)\n",
    "plt.show()"
   ]
  },
  {
   "cell_type": "code",
   "execution_count": null,
   "metadata": {
    "collapsed": true
   },
   "outputs": [],
   "source": []
  }
 ],
 "metadata": {
  "kernelspec": {
   "display_name": "Python 3",
   "language": "python",
   "name": "python3"
  },
  "language_info": {
   "codemirror_mode": {
    "name": "ipython",
    "version": 3
   },
   "file_extension": ".py",
   "mimetype": "text/x-python",
   "name": "python",
   "nbconvert_exporter": "python",
   "pygments_lexer": "ipython3",
   "version": "3.6.3"
  }
 },
 "nbformat": 4,
 "nbformat_minor": 1
}
